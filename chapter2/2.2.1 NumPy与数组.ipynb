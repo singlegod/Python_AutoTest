{
 "cells": [
  {
   "cell_type": "code",
   "execution_count": 5,
   "metadata": {
    "collapsed": true
   },
   "outputs": [
    {
     "name": "stdout",
     "output_type": "stream",
     "text": [
      "[1, 2, 3, 4]\n",
      "[1 2 3 4]\n",
      "<class 'list'>\n",
      "<class 'numpy.ndarray'>\n",
      "2\n",
      "2\n",
      "[1, 2]\n",
      "[1 2]\n",
      "[1, 2, 3, 4, 1, 2, 3, 4]\n",
      "[2 4 6 8]\n"
     ]
    }
   ],
   "source": [
    "import numpy as np\n",
    "\n",
    "# 用np代替numpy，让代码更简洁\n",
    "a = [1, 2, 3, 4]  # 创建列表a\n",
    "b = np.array([1, 2, 3, 4])  # 从列表a创建数组b，array就是数组的意思\n",
    "print(a)\n",
    "print(b)\n",
    "print(type(a))\n",
    "# 打印a的类型\n",
    "print(type(b))  # 打印b的类型\n",
    "print(a[1])\n",
    "print(b[1])\n",
    "print(a[0:2])\n",
    "print(b[0:2])\n",
    "c = a * 2\n",
    "d = b * 2\n",
    "print(c)\n",
    "print(d)"
   ]
  },
  {
   "cell_type": "code",
   "execution_count": 6,
   "outputs": [
    {
     "name": "stdout",
     "output_type": "stream",
     "text": [
      "[[1, 2], [3, 4], [5, 6]]\n",
      "[[1 2]\n",
      " [3 4]\n",
      " [5 6]]\n"
     ]
    }
   ],
   "source": [
    "e = [[1, 2], [3, 4], [5, 6]]  # 列表里的元素为小列表\n",
    "f = np.array([[1, 2], [3, 4], [5, 6]])  # 创建二维数组的一种方式\n",
    "print(e)\n",
    "print(f)"
   ],
   "metadata": {
    "collapsed": false,
    "pycharm": {
     "name": "#%%\n"
    }
   }
  },
  {
   "cell_type": "code",
   "execution_count": null,
   "outputs": [],
   "source": [],
   "metadata": {
    "collapsed": false,
    "pycharm": {
     "name": "#%%\n"
    }
   }
  }
 ],
 "metadata": {
  "kernelspec": {
   "display_name": "Python 3",
   "language": "python",
   "name": "python3"
  },
  "language_info": {
   "codemirror_mode": {
    "name": "ipython",
    "version": 2
   },
   "file_extension": ".py",
   "mimetype": "text/x-python",
   "name": "python",
   "nbconvert_exporter": "python",
   "pygments_lexer": "ipython2",
   "version": "2.7.6"
  }
 },
 "nbformat": 4,
 "nbformat_minor": 0
}